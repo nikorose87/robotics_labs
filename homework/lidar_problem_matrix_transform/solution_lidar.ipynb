{
 "cells": [
  {
   "cell_type": "markdown",
   "metadata": {},
   "source": [
    "# LIDAR problem\n",
    "\n",
    "To solve the LIDAR problem depicted in the image, we need to perform a matrix transformation. The image provides a visual representation of the problem, showcasing the input data and the desired output.\n",
    "\n",
    "The LIDAR problem involves processing data obtained from a LIDAR sensor, which measures distances to objects in its surroundings. The goal is to transform the raw LIDAR data using a matrix operation to obtain a transformed representation of the environment.\n",
    "\n",
    "In the subsequent sections, we will explore the steps required to solve the LIDAR problem and provide code examples to demonstrate the implementation of the matrix transformation.\n",
    "\n",
    "![img1](lidar_problem.png)\n",
    "\n",
    "let us begin transforming the polar coordinates into the cartesian ones\n",
    "\n",
    "## Point A"
   ]
  },
  {
   "cell_type": "code",
   "execution_count": 24,
   "metadata": {},
   "outputs": [
    {
     "name": "stdout",
     "output_type": "stream",
     "text": [
      "Cartesian transformation for each particle [[2.04, 0.0, 0, 1], [2.443200814043362, 0.8892523726467387, 0, 1], [2.9358261188292474, -1.6949999999999998, 0, 1]]\n"
     ]
    }
   ],
   "source": [
    "import numpy as np \n",
    "\n",
    "P_l = [(2.04,0), (2.6, np.deg2rad(20)), (3.39, np.deg2rad(-30))]\n",
    "cartesian_p = [[x[0]*np.cos(x[1]), x[0]*np.sin(x[1]), 0, 1] for x in P_l]\n",
    "print(f\"Cartesian transformation for each particle {cartesian_p}\")\n",
    "\n"
   ]
  },
  {
   "cell_type": "markdown",
   "metadata": {},
   "source": [
    "## Load the Transformation matrix class"
   ]
  },
  {
   "cell_type": "code",
   "execution_count": 25,
   "metadata": {},
   "outputs": [],
   "source": [
    "import numpy as np\n",
    "\n",
    "class TransformationMatrix:\n",
    "  def __init__(self, matrix:np.array=None):\n",
    "    if matrix is None:\n",
    "      self.matrix = np.eye(4)\n",
    "    else:\n",
    "      self.matrix = matrix\n",
    "    return\n",
    "\n",
    "  def transform_deg2rad(self, degree:float) -> float:\n",
    "    return np.deg2rad(degree)\n",
    "\n",
    "  def rot_x(self, degree:float) -> np.array:\n",
    "    deg_rad = self.transform_deg2rad(degree)\n",
    "    self.matrix = np.dot(np.array([[1, 0, 0, 0],\n",
    "                            [0, np.cos(deg_rad), -np.sin(deg_rad), 0],\n",
    "                            [0, np.sin(deg_rad), np.cos(deg_rad), 0],\n",
    "                            [0, 0, 0, 1]]), self.matrix)\n",
    "    return self.matrix\n",
    "\n",
    "  def rot_y(self, degree:float) -> np.array:\n",
    "    deg_rad = self.transform_deg2rad(degree)\n",
    "    self.matrix = np.dot(np.array([[np.cos(deg_rad), 0, np.sin(deg_rad), 0],\n",
    "                            [0, 1, 0, 0],\n",
    "                            [-np.sin(deg_rad), 0, np.cos(deg_rad), 0],\n",
    "                            [0, 0, 0, 1]]), self.matrix)\n",
    "    return self.matrix\n",
    "\n",
    "  def rot_z(self, degree:float) -> np.array:\n",
    "    deg_rad = self.transform_deg2rad(degree)\n",
    "    self.matrix = np.dot(np.array([[np.cos(deg_rad), -np.sin(deg_rad), 0, 0],\n",
    "                            [np.sin(deg_rad), np.cos(deg_rad), 0, 0],\n",
    "                            [0, 0, 1, 0],\n",
    "                            [0, 0, 0, 1]]), self.matrix)\n",
    "    return self.matrix\n",
    "\n",
    "  def trasl_x(self, length:float) -> np.array:\n",
    "    self.matrix = np.dot(np.array([[1, 0, 0, length],\n",
    "                                          [0, 1, 0, 0],\n",
    "                                          [0, 0, 1, 0],\n",
    "                                          [0, 0, 0, 1]]), self.matrix)\n",
    "    return self.matrix\n",
    "\n",
    "  def trasl_y(self, length:float) -> np.array:\n",
    "    self.matrix = np.dot(np.array([[1, 0, 0, 0],\n",
    "                            [0, 1, 0, length],\n",
    "                            [0, 0, 1, 0],\n",
    "                            [0, 0, 0, 1]]), self.matrix)\n",
    "    return self.matrix\n",
    "\n",
    "  def trasl_z(self, length:float) -> np.a>\n",
    "                            [0, 0, 1, length],\n",
    "                            [0, 0, 0, 1]]), self.matrix)\n",
    "    return self.matrix"
   ]
  },
  {
   "cell_type": "markdown",
   "metadata": {},
   "source": [
    "Now we can make the corresponding transformation from point ${R}$ to point ${L}$, in other words $T^R_L$. After that we apply the following formula:\n",
    "\n",
    "$$\n",
    "\\begin{equation}\n",
    "\\begin{bmatrix}\n",
    "p_R \\\\\n",
    "1\n",
    "\\end{bmatrix} =\n",
    "\\begin{bmatrix}\n",
    "R^R_L & t^R_L \\\\\n",
    "0 & 1\n",
    "\\end{bmatrix}\n",
    "\\begin{bmatrix}\n",
    "p_L \\\\\n",
    "1\n",
    "\\end{bmatrix}\n",
    "\\end{equation}\n",
    "$$"
   ]
  },
  {
   "cell_type": "code",
   "execution_count": 26,
   "metadata": {},
   "outputs": [
    {
     "name": "stdout",
     "output_type": "stream",
     "text": [
      "Result for p=[2.04, 0.0, 0, 1] is [ 2.16 -0.1   0.3   1.  ]\n",
      "Result for p=[2.443200814043362, 0.8892523726467387, 0, 1] is [1.92757826 0.78925237 1.7159372  1.        ]\n",
      "Result for p=[2.9358261188292474, -1.6949999999999998, 0, 1] is [ 1.73443383 -1.795       2.5337349   1.        ]\n"
     ]
    }
   ],
   "source": [
    "phis = [0, 35, 50]\n",
    "p_R = []\n",
    "for ang, p in zip(phis, cartesian_p):\n",
    "    Trl = TransformationMatrix()\n",
    "    Trl.trasl_y(-0.1)\n",
    "    Trl.trasl_z(0.3)\n",
    "    Trl.trasl_x(0.12)\n",
    "    Trl.rot_y(-ang)\n",
    "    __result = np.dot(Trl.matrix, p)\n",
    "    print(f\"Result for p={p} is {__result}\")\n",
    "    p_R.append(__result)\n",
    "    \n",
    "    \n",
    "    "
   ]
  },
  {
   "cell_type": "markdown",
   "metadata": {},
   "source": [
    "## Point B"
   ]
  },
  {
   "cell_type": "code",
   "execution_count": 27,
   "metadata": {},
   "outputs": [
    {
     "name": "stdout",
     "output_type": "stream",
     "text": [
      "Rotation angle is 140.2296697722891 degrees\n",
      "Matrix from quaternion is [[ 1.          0.          0.        ]\n",
      " [ 0.         -0.76861489 -0.63971177]\n",
      " [ 0.          0.63971177 -0.76861489]]\n",
      "Quaternion matrix is [[-0.76861489 -0.63971177  0.         -2.56365092]\n",
      " [ 0.63971177 -0.76861489  0.          4.73578863]\n",
      " [ 0.          0.          1.          0.2       ]\n",
      " [ 0.          0.          0.          1.        ]]\n"
     ]
    }
   ],
   "source": [
    "from scipy.spatial.transform import Rotation as R\n",
    "\n",
    "\n",
    "def quaternion_to_rotation_angle(quaternion):\n",
    "    r = R.from_quat(quaternion)\n",
    "    rotvec = r.as_rotvec()\n",
    "    angle = np.linalg.norm(rotvec)\n",
    "    return np.degrees(angle) \n",
    "\n",
    "quaternion = [0.94, 0, 0, 0.34]\n",
    "angle = quaternion_to_rotation_angle(quaternion)\n",
    "print(f\"Rotation angle is {angle} degrees\")\n",
    "\n",
    "def quaternion_to_matrix(quaternion):\n",
    "    r = R.from_quat(quaternion)\n",
    "    return r.as_matrix()\n",
    "\n",
    "mat_from_quat = quaternion_to_matrix(quaternion)\n",
    "print(f\"Matrix from quaternion is {mat_from_quat}\")\n",
    "\n",
    "quat_mat = TransformationMatrix()\n",
    "quat_mat.trasl_x(5)\n",
    "quat_mat.trasl_y(-2)\n",
    "quat_mat.trasl_z(0.2)\n",
    "quat_mat.rot_z(angle)\n",
    "print(f\"Quaternion matrix is {quat_mat.matrix}\")"
   ]
  },
  {
   "cell_type": "markdown",
   "metadata": {},
   "source": [
    "Now we obtained the transformation matrix from the inertial system to the Robot, we will apply the particle position from the new transformation matrix."
   ]
  },
  {
   "cell_type": "code",
   "execution_count": 28,
   "metadata": {},
   "outputs": [
    {
     "name": "stdout",
     "output_type": "stream",
     "text": [
      "Result for p=[ 2.16 -0.1   0.3   1.  ] is [-4.15988791  6.19442754  0.5         1.        ]\n",
      "Result for p=[1.92757826 0.78925237 1.7159372  1.        ] is [-4.55011031  5.362252    1.9159372   1.        ]\n",
      "Result for p=[ 1.73443383 -1.795       2.5337349   1.        ] is [-2.74847997  7.2249901   2.7337349   1.        ]\n"
     ]
    }
   ],
   "source": [
    "for p in p_R:\n",
    "    __result = np.dot(quat_mat.matrix, p)\n",
    "    print(f\"Result for p={p} is {__result}\")"
   ]
  },
  {
   "cell_type": "markdown",
   "metadata": {},
   "source": []
  },
  {
   "cell_type": "code",
   "execution_count": null,
   "metadata": {},
   "outputs": [],
   "source": []
  }
 ],
 "metadata": {
  "kernelspec": {
   "display_name": "robotics",
   "language": "python",
   "name": "python3"
  },
  "language_info": {
   "codemirror_mode": {
    "name": "ipython",
    "version": 3
   },
   "file_extension": ".py",
   "mimetype": "text/x-python",
   "name": "python",
   "nbconvert_exporter": "python",
   "pygments_lexer": "ipython3",
   "version": "3.11.0"
  }
 },
 "nbformat": 4,
 "nbformat_minor": 2
}
