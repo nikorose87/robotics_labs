{
 "cells": [
  {
   "cell_type": "markdown",
   "metadata": {},
   "source": [
    "# LIDAR problem\n",
    "\n",
    "To solve the LIDAR problem depicted in the image, we need to perform a matrix transformation. The image provides a visual representation of the problem, showcasing the input data and the desired output.\n",
    "\n",
    "The LIDAR problem involves processing data obtained from a LIDAR sensor, which measures distances to objects in its surroundings. The goal is to transform the raw LIDAR data using a matrix operation to obtain a transformed representation of the environment.\n",
    "\n",
    "In the subsequent sections, we will explore the steps required to solve the LIDAR problem and provide code examples to demonstrate the implementation of the matrix transformation.\n",
    "\n",
    "![img1](lidar_problem.png)\n",
    "\n",
    "let us begin transforming the polar coordinates into the cartesian ones\n",
    "\n",
    "## Point A"
   ]
  },
  {
   "cell_type": "code",
   "execution_count": 49,
   "metadata": {},
   "outputs": [
    {
     "name": "stdout",
     "output_type": "stream",
     "text": [
      "Cartesian transformation for each particle [[2.04, 0.0, 0, 1], [2.443200814043362, 0.8892523726467387, 0, 1], [2.9358261188292474, -1.6949999999999998, 0, 1]]\n"
     ]
    }
   ],
   "source": [
    "import numpy as np \n",
    "\n",
    "P_l = [(2.04,0), (2.6, np.deg2rad(20)), (3.39, np.deg2rad(-30))]\n",
    "cartesian_p = [[x[0]*np.cos(x[1]), x[0]*np.sin(x[1]), 0, 1] for x in P_l]\n",
    "print(f\"Cartesian transformation for each particle {cartesian_p}\")\n",
    "\n"
   ]
  },
  {
   "cell_type": "markdown",
   "metadata": {},
   "source": [
    "## Load the Transformation matrix class"
   ]
  },
  {
   "cell_type": "code",
   "execution_count": 50,
   "metadata": {},
   "outputs": [],
   "source": [
    "import numpy as np\n",
    "\n",
    "class TransformationMatrix:\n",
    "  def __init__(self, matrix:np.array=None):\n",
    "    if matrix is None:\n",
    "      self.matrix = np.eye(4)\n",
    "    else:\n",
    "      self.matrix = matrix\n",
    "    return\n",
    "\n",
    "  def transform_deg2rad(self, degree:float) -> float:\n",
    "    return np.deg2rad(degree)\n",
    "\n",
    "  def rot_x(self, degree:float) -> np.array:\n",
    "    deg_rad = self.transform_deg2rad(degree)\n",
    "    self.matrix = np.dot(np.array([[1, 0, 0, 0],\n",
    "                            [0, np.cos(deg_rad), -np.sin(deg_rad), 0],\n",
    "                            [0, np.sin(deg_rad), np.cos(deg_rad), 0],\n",
    "                            [0, 0, 0, 1]]), self.matrix)\n",
    "    return self.matrix\n",
    "\n",
    "  def rot_y(self, degree:float) -> np.array:\n",
    "    deg_rad = self.transform_deg2rad(degree)\n",
    "    self.matrix = np.dot(np.array([[np.cos(deg_rad), 0, np.sin(deg_rad), 0],\n",
    "                            [0, 1, 0, 0],\n",
    "                            [-np.sin(deg_rad), 0, np.cos(deg_rad), 0],\n",
    "                            [0, 0, 0, 1]]), self.matrix)\n",
    "    return self.matrix\n",
    "\n",
    "  def rot_z(self, degree:float) -> np.array:\n",
    "    deg_rad = self.transform_deg2rad(degree)\n",
    "    self.matrix = np.dot(np.array([[np.cos(deg_rad), -np.sin(deg_rad), 0, 0],\n",
    "                            [np.sin(deg_rad), np.cos(deg_rad), 0, 0],\n",
    "                            [0, 0, 1, 0],\n",
    "                            [0, 0, 0, 1]], self.matrix))\n",
    "    return self.matrix\n",
    "\n",
    "  def trasl_x(self, length:float) -> np.array:\n",
    "    self.matrix = np.dot(np.array([[1, 0, 0, length],\n",
    "                                          [0, 1, 0, 0],\n",
    "                                          [0, 0, 1, 0],\n",
    "                                          [0, 0, 0, 1]]), self.matrix)\n",
    "    return self.matrix\n",
    "\n",
    "  def trasl_y(self, length:float) -> np.array:\n",
    "    self.matrix = np.dot(np.array([[1, 0, 0, 0],\n",
    "                            [0, 1, 0, length],\n",
    "                            [0, 0, 1, 0],\n",
    "                            [0, 0, 0, 1]]), self.matrix)\n",
    "    return self.matrix\n",
    "\n",
    "  def trasl_z(self, length:float) -> np.array:\n",
    "    self.matrix = np.dot (np.array([[1, 0, 0, 0],\n",
    "                            [0, 1, 0, 0],\n",
    "                            [0, 0, 1, length],\n",
    "                            [0, 0, 0, 1]]), self.matrix)\n",
    "    return self.matrix"
   ]
  },
  {
   "cell_type": "markdown",
   "metadata": {},
   "source": [
    "Now we can make the corresponding transformation from point ${R}$ to point ${L}$, in other words $T^R_L$. After that we apply the following formula:\n",
    "\n",
    "$$\n",
    "\\begin{equation}\n",
    "\\begin{bmatrix}\n",
    "p_R \\\\\n",
    "1\n",
    "\\end{bmatrix} =\n",
    "\\begin{bmatrix}\n",
    "R^R_L & t^R_L \\\\\n",
    "0 & 1\n",
    "\\end{bmatrix}\n",
    "\\begin{bmatrix}\n",
    "p_L \\\\\n",
    "1\n",
    "\\end{bmatrix}\n",
    "\\end{equation}\n",
    "$$"
   ]
  },
  {
   "cell_type": "code",
   "execution_count": 51,
   "metadata": {},
   "outputs": [
    {
     "name": "stdout",
     "output_type": "stream",
     "text": [
      "Result for p=[2.04, 0.0, 0, 1] is [ 2.16 -0.1   0.3   1.  ]\n",
      "Result for p=[2.443200814043362, 0.8892523726467387, 0, 1] is [1.92757826 0.78925237 1.7159372  1.        ]\n",
      "Result for p=[2.9358261188292474, -1.6949999999999998, 0, 1] is [ 1.73443383 -1.795       2.5337349   1.        ]\n"
     ]
    }
   ],
   "source": [
    "phis = [0, 35, 50]\n",
    "p_R = []\n",
    "for ang, p in zip(phis, cartesian_p):\n",
    "    Trl = TransformationMatrix()\n",
    "    Trl.trasl_y(-0.1)\n",
    "    Trl.trasl_z(0.3)\n",
    "    Trl.trasl_x(0.12)\n",
    "    Trl.rot_y(-ang)\n",
    "    __result = np.dot(Trl.matrix, p)\n",
    "    print(f\"Result for p={p} is {__result}\")\n",
    "    p_R.append(__result)\n",
    "    \n",
    "    \n",
    "    "
   ]
  },
  {
   "cell_type": "markdown",
   "metadata": {},
   "source": [
    "## Point B"
   ]
  },
  {
   "cell_type": "code",
   "execution_count": 52,
   "metadata": {},
   "outputs": [
    {
     "name": "stdout",
     "output_type": "stream",
     "text": [
      "Transformation matrix for quaternion [0.94, 0, 0, 0.34] is [[ 1.          0.          0.          5.        ]\n",
      " [ 0.         -0.76861489 -0.63971177 -2.        ]\n",
      " [ 0.          0.63971177 -0.76861489 -0.2       ]\n",
      " [ 0.          0.          0.          1.        ]]\n"
     ]
    }
   ],
   "source": [
    "from scipy.spatial.transform import Rotation as R\n",
    "\n",
    "def create_transformation_matrix(rotation_matrix, translation_vector):\n",
    "    transformation_matrix = np.eye(4)\n",
    "    transformation_matrix[:3, :3] = rotation_matrix\n",
    "    transformation_matrix[:3, 3] = translation_vector\n",
    "    return transformation_matrix\n",
    "\n",
    "def quaternion_to_matrix(quaternion):\n",
    "    r = R.from_quat(quaternion)\n",
    "    return r.as_matrix()\n",
    "\n",
    "quaternion = [0.94, 0, 0, 0.34]\n",
    "matrix = quaternion_to_matrix(quaternion)\n",
    "trans_i_r = create_transformation_matrix(matrix, [5, -2, -0.2])\n",
    "print(f\"Transformation matrix for quaternion {quaternion} is {trans_i_r}\")\n",
    "    "
   ]
  },
  {
   "cell_type": "markdown",
   "metadata": {},
   "source": [
    "Now we obtained the transformation matrix from the inertial system to the Robot, we will apply the particle position from the new transformation matrix."
   ]
  },
  {
   "cell_type": "code",
   "execution_count": 53,
   "metadata": {},
   "outputs": [
    {
     "name": "stdout",
     "output_type": "stream",
     "text": [
      "Result for p=[ 2.16 -0.1   0.3   1.  ] is [ 7.16       -2.11505204 -0.49455564  1.        ]\n",
      "Result for p=[1.92757826 0.78925237 1.7159372  1.        ] is [ 6.92757826 -3.70433635 -1.01400086  1.        ]\n",
      "Result for p=[ 1.73443383 -1.795       2.5337349   1.        ] is [ 6.73443383 -2.24119631 -3.295749    1.        ]\n"
     ]
    }
   ],
   "source": [
    "for p in p_R:\n",
    "    __result = np.dot(trans_i_r, p)\n",
    "    print(f\"Result for p={p} is {__result}\")"
   ]
  },
  {
   "cell_type": "code",
   "execution_count": null,
   "metadata": {},
   "outputs": [],
   "source": []
  }
 ],
 "metadata": {
  "kernelspec": {
   "display_name": "robotics",
   "language": "python",
   "name": "python3"
  },
  "language_info": {
   "codemirror_mode": {
    "name": "ipython",
    "version": 3
   },
   "file_extension": ".py",
   "mimetype": "text/x-python",
   "name": "python",
   "nbconvert_exporter": "python",
   "pygments_lexer": "ipython3",
   "version": "3.11.0"
  }
 },
 "nbformat": 4,
 "nbformat_minor": 2
}
