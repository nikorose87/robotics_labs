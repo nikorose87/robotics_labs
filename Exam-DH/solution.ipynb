{
 "cells": [
  {
   "cell_type": "markdown",
   "metadata": {},
   "source": [
    "# Primer punto\n",
    "\n",
    "Se tiene un robot manipulador cuyos valores articulares están dados por el vector $q = (q_1, q_2, q_3, q_4)$. Este robot posee cuatro grados de libertad y se encuentra modelado cinemáticamente a través de los parámetros de Denavit-Hartenberg estándar mostrados en la siguiente tabla, donde $L_1 = 0.6, L_2 = 0.8 y L_3 = 1$\n",
    "\n",
    "| $i$ | $\\theta_i$ | $d_i$ | $a_i$ | $\\alpha_i$ |\n",
    "|---|---|---|---|---|\n",
    "| 1 | $q_1$ | 0 | $L_1$ | 0 |\n",
    "| 2 | 0 | $q_2$ | 0 | $-\\frac{\\pi}{2}$ |\n",
    "| 3 | $q_3$ | 0 | $L_2$ | $\\frac{\\pi}{2}$ |\n",
    "| 4 | $q_4$ | $L_3$ | 0 | 0 |\n",
    "\n",
    "\n",
    "**Tip: Matriz \\( A_i \\):**\n",
    "\\[\n",
    "A_i = \n",
    "\\begin{bmatrix}\n",
    "\\cos(\\theta_i) & -\\sin(\\theta_i)\\cos(\\alpha_i) & \\sin(\\theta_i)\\sin(\\alpha_i) & a_i\\cos(\\theta_i) \\\\\n",
    "\\sin(\\theta_i) & \\cos(\\theta_i)\\cos(\\alpha_i) & -\\cos(\\theta_i)\\sin(\\alpha_i) & a_i\\sin(\\theta_i) \\\\\n",
    "0 & \\sin(\\alpha_i) & \\cos(\\alpha_i) & d_i \\\\\n",
    "0 & 0 & 0 & 1\n",
    "\\end{bmatrix}\n",
    "\\]"
   ]
  },
  {
   "cell_type": "code",
   "execution_count": 11,
   "metadata": {},
   "outputs": [],
   "source": [
    "import numpy as np\n",
    "\n",
    "def get_end_effector_pose(q, L):\n",
    "    # Denavit-Hartenberg parameters\n",
    "    theta = [q[0], 0, q[2], q[3]]\n",
    "    d = [0, q[1], 0, L[2]]\n",
    "    a = [L[0], 0, L[1], 0]\n",
    "    alpha = [0, -np.pi/2, np.pi/2, 0]\n",
    "\n",
    "    # Initialize transformation matrix\n",
    "    T = np.eye(4)\n",
    "\n",
    "    # Iterate over each joint\n",
    "    for i in range(4):\n",
    "        # Compute transformation matrix for this joint\n",
    "        A = np.array([\n",
    "            [np.cos(theta[i]), -np.sin(theta[i])*np.cos(alpha[i]), np.sin(theta[i])*np.sin(alpha[i]), a[i]*np.cos(theta[i])],\n",
    "            [np.sin(theta[i]), np.cos(theta[i])*np.cos(alpha[i]), -np.cos(theta[i])*np.sin(alpha[i]), a[i]*np.sin(theta[i])],\n",
    "            [0, np.sin(alpha[i]), np.cos(alpha[i]), d[i]],\n",
    "            [0, 0, 0, 1]\n",
    "        ])\n",
    "\n",
    "        # Update transformation matrix\n",
    "        T = np.dot(T, A)\n",
    "\n",
    "    return T"
   ]
  },
  {
   "cell_type": "markdown",
   "metadata": {},
   "source": [
    "Los resultados para la posición y orientación que tendrá el efector final de este robot cuando el vector articular sea $ q = (1, 0, -\\frac{\\pi}{2}, \\frac{\\pi}{2}) $ es:"
   ]
  },
  {
   "cell_type": "code",
   "execution_count": 12,
   "metadata": {},
   "outputs": [
    {
     "name": "stdout",
     "output_type": "stream",
     "text": [
      "[[-8.41470985e-01 -1.36134449e-16 -5.40302306e-01 -2.16120922e-01]\n",
      " [ 5.40302306e-01  1.46427115e-17 -8.41470985e-01 -3.36588394e-01]\n",
      " [ 1.22464680e-16 -1.00000000e+00  6.12323400e-17  8.00000000e-01]\n",
      " [ 0.00000000e+00  0.00000000e+00  0.00000000e+00  1.00000000e+00]]\n"
     ]
    }
   ],
   "source": [
    "q = [1, 0, -np.pi/2, np.pi/2]  # joint angles\n",
    "L = [0.6, 0.8, 1.0]  # link lengths\n",
    "T = get_end_effector_pose(q, L)\n",
    "print(T)"
   ]
  },
  {
   "cell_type": "markdown",
   "metadata": {},
   "source": [
    "## Solución Robot Sawyer\n",
    "\n"
   ]
  },
  {
   "cell_type": "code",
   "execution_count": 13,
   "metadata": {},
   "outputs": [],
   "source": [
    "import roboticstoolbox as rtb\n",
    "import numpy as np\n",
    "\n",
    "def create_custom_robot(dh_parameters):\n",
    "    links = [rtb.RevoluteDH(d=d, a=a, alpha=alpha, offset=offset) for offset, d, a, alpha in dh_parameters]\n",
    "    return rtb.DHRobot(links, name=\"Sawyer\")"
   ]
  },
  {
   "cell_type": "code",
   "execution_count": 14,
   "metadata": {},
   "outputs": [
    {
     "data": {
      "text/plain": [
       "DHRobot: Sawyer, 7 joints (RRRRRRR), dynamics, standard DH parameters\n",
       "┌──────────┬────────┬────────┬────────┐\n",
       "│   θⱼ     │   dⱼ   │   aⱼ   │   ⍺ⱼ   │\n",
       "├──────────┼────────┼────────┼────────┤\n",
       "│ q1\u001b[0m       │  0.317\u001b[0m │ -0.081\u001b[0m │ -90.0°\u001b[0m │\n",
       "│ q2 - 90°\u001b[0m │  0.192\u001b[0m │      0\u001b[0m │  90.0°\u001b[0m │\n",
       "│ q3\u001b[0m       │    0.4\u001b[0m │      0\u001b[0m │  90.0°\u001b[0m │\n",
       "│ q4\u001b[0m       │  0.168\u001b[0m │      0\u001b[0m │ -90.0°\u001b[0m │\n",
       "│ q5\u001b[0m       │    0.4\u001b[0m │      0\u001b[0m │ -90.0°\u001b[0m │\n",
       "│ q6\u001b[0m       │ 0.1363\u001b[0m │      0\u001b[0m │  90.0°\u001b[0m │\n",
       "│ q7\u001b[0m       │ 0.1335\u001b[0m │      0\u001b[0m │   0.0°\u001b[0m │\n",
       "└──────────┴────────┴────────┴────────┘\n",
       "\n",
       "┌─┬──┐\n",
       "└─┴──┘"
      ]
     },
     "execution_count": 14,
     "metadata": {},
     "output_type": "execute_result"
    }
   ],
   "source": [
    "sawyer_dh_parameters = [\n",
    "    (0, .317, -.081, -np.pi/2),\n",
    "    (-np.pi/2, .192, 0, np.pi/2),\n",
    "    (0, .4, 0, np.pi/2),\n",
    "    (0, .168, 0, -np.pi/2),\n",
    "    (0, .4, 0, -np.pi/2),\n",
    "    (0, .1363, 0, np.pi/2),\n",
    "    (0, .1335, 0, 0)\n",
    "]\n",
    "\n",
    "customized_robot = create_custom_robot(sawyer_dh_parameters)\n",
    "customized_robot"
   ]
  },
  {
   "cell_type": "code",
   "execution_count": 15,
   "metadata": {},
   "outputs": [
    {
     "name": "stdout",
     "output_type": "stream",
     "text": [
      "  \u001b[38;5;1m 0       \u001b[0m \u001b[38;5;1m 0       \u001b[0m \u001b[38;5;1m-1       \u001b[0m \u001b[38;5;4m-1.014   \u001b[0m  \u001b[0m\n",
      "  \u001b[38;5;1m 0       \u001b[0m \u001b[38;5;1m 1       \u001b[0m \u001b[38;5;1m 0       \u001b[0m \u001b[38;5;4m 0.1603  \u001b[0m  \u001b[0m\n",
      "  \u001b[38;5;1m 1       \u001b[0m \u001b[38;5;1m 0       \u001b[0m \u001b[38;5;1m 0       \u001b[0m \u001b[38;5;4m 0.317   \u001b[0m  \u001b[0m\n",
      "  \u001b[38;5;244m 0       \u001b[0m \u001b[38;5;244m 0       \u001b[0m \u001b[38;5;244m 0       \u001b[0m \u001b[38;5;244m 1       \u001b[0m  \u001b[0m\n",
      "\n"
     ]
    }
   ],
   "source": [
    "T = customized_robot.fkine([0,0,0,0,0,0,0])\n",
    "print(T)"
   ]
  },
  {
   "cell_type": "markdown",
   "metadata": {},
   "source": [
    "# Students validation"
   ]
  },
  {
   "cell_type": "code",
   "execution_count": 19,
   "metadata": {},
   "outputs": [
    {
     "data": {
      "text/plain": [
       "DHRobot: Sawyer, 7 joints (RRRRRRR), dynamics, standard DH parameters\n",
       "┌──────────┬────────┬────────┬────────┐\n",
       "│   θⱼ     │   dⱼ   │   aⱼ   │   ⍺ⱼ   │\n",
       "├──────────┼────────┼────────┼────────┤\n",
       "│ q1\u001b[0m       │  0.317\u001b[0m │  0.081\u001b[0m │  90.0°\u001b[0m │\n",
       "│ q2 + 90°\u001b[0m │   0.14\u001b[0m │  0.192\u001b[0m │  90.0°\u001b[0m │\n",
       "│ q3\u001b[0m       │   0.26\u001b[0m │ 0.1685\u001b[0m │ -90.0°\u001b[0m │\n",
       "│ q4\u001b[0m       │ 0.1265\u001b[0m │      0\u001b[0m │  90.0°\u001b[0m │\n",
       "│ q5\u001b[0m       │ 0.2735\u001b[0m │      0\u001b[0m │ -90.0°\u001b[0m │\n",
       "│ q6\u001b[0m       │      0\u001b[0m │      0\u001b[0m │  90.0°\u001b[0m │\n",
       "│ q7\u001b[0m       │      0\u001b[0m │      0\u001b[0m │   0.0°\u001b[0m │\n",
       "└──────────┴────────┴────────┴────────┘\n",
       "\n",
       "┌─┬──┐\n",
       "└─┴──┘"
      ]
     },
     "execution_count": 19,
     "metadata": {},
     "output_type": "execute_result"
    }
   ],
   "source": [
    "sawyer_dh_parameters = [\n",
    "    (0, .317, .081, np.pi/2),\n",
    "    (np.pi/2, .140, 0.192, np.pi/2),\n",
    "    (0, .260, 0.1685, -np.pi/2),\n",
    "    (0, 0.1265, 0, np.pi/2),\n",
    "    (0, .2735, 0, -np.pi/2),\n",
    "    (0, .0, 0.0, np.pi/2),\n",
    "    (0, 0, 0, 0)\n",
    "]\n",
    "\n",
    "customized_robot = create_custom_robot(sawyer_dh_parameters)\n",
    "customized_robot"
   ]
  },
  {
   "cell_type": "code",
   "execution_count": 20,
   "metadata": {},
   "outputs": [
    {
     "name": "stdout",
     "output_type": "stream",
     "text": [
      "  \u001b[38;5;1m 0       \u001b[0m \u001b[38;5;1m 0       \u001b[0m \u001b[38;5;1m 1       \u001b[0m \u001b[38;5;4m 0.6145  \u001b[0m  \u001b[0m\n",
      "  \u001b[38;5;1m 0       \u001b[0m \u001b[38;5;1m-1       \u001b[0m \u001b[38;5;1m 0       \u001b[0m \u001b[38;5;4m-0.2665  \u001b[0m  \u001b[0m\n",
      "  \u001b[38;5;1m 1       \u001b[0m \u001b[38;5;1m 0       \u001b[0m \u001b[38;5;1m 0       \u001b[0m \u001b[38;5;4m 0.6775  \u001b[0m  \u001b[0m\n",
      "  \u001b[38;5;244m 0       \u001b[0m \u001b[38;5;244m 0       \u001b[0m \u001b[38;5;244m 0       \u001b[0m \u001b[38;5;244m 1       \u001b[0m  \u001b[0m\n",
      "\n"
     ]
    }
   ],
   "source": [
    "T = customized_robot.fkine([0,0,0,0,0,0,0])\n",
    "print(T)"
   ]
  },
  {
   "cell_type": "code",
   "execution_count": null,
   "metadata": {},
   "outputs": [],
   "source": []
  }
 ],
 "metadata": {
  "kernelspec": {
   "display_name": "robotics",
   "language": "python",
   "name": "python3"
  },
  "language_info": {
   "codemirror_mode": {
    "name": "ipython",
    "version": 3
   },
   "file_extension": ".py",
   "mimetype": "text/x-python",
   "name": "python",
   "nbconvert_exporter": "python",
   "pygments_lexer": "ipython3",
   "version": "3.11.0"
  }
 },
 "nbformat": 4,
 "nbformat_minor": 2
}
