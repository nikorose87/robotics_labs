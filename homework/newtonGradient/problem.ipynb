{
 "cells": [
  {
   "cell_type": "markdown",
   "metadata": {},
   "source": [
    "# Numeric Solution of an Inverse Kinematic Problem using the Newton Method\n",
    "\n",
    "Inverse kinematics is a subfield of robotics and computer graphics that focuses on computing the joint parameters necessary to move a robotic arm or character to a particular position. It's called \"inverse\" because it reverses the direction of the kinematic equations, which usually go from joint angles to end-effector position.\n",
    "\n",
    "The Newton method, also known as Newton-Raphson method, is a powerful technique for solving equations numerically. It's an iterative method that starts with an initial guess and then refines that guess using the derivative of the function.\n",
    "\n",
    "In this notebook, we will apply the Newton method to solve an inverse kinematic problem. We will start by defining the problem and the method, and then we will implement the method in Python and use it to solve a specific problem.\n",
    "\n",
    "Please note that a good understanding of calculus, linear algebra, and robotics kinematics is required to fully understand the content of this notebook.\n",
    "\n",
    "# Jacobian for a 2-link (RR) Robot Arm\n",
    "\n",
    "The Jacobian matrix is a crucial concept in the field of robotics, particularly for manipulator arms. It provides a relationship between the joint velocities and the end-effector velocity in the Cartesian space.\n",
    "\n",
    "For a 2-link (RR) robot arm, the Jacobian matrix can be derived from the forward kinematics equations. The forward kinematics equations for the end-effector position $(x, y)$ in terms of the joint angles $(\\theta_1, \\theta_2)$ and link lengths $(l_1, l_2)$ are:\n",
    "\n",
    "$$\n",
    "x = l_1 \\cos(\\theta_1) + l_2 \\cos(\\theta_1 + \\theta_2)\n",
    "$$\n",
    "\n",
    "$$\n",
    "y = l_1 \\sin(\\theta_1) + l_2 \\sin(\\theta_1 + \\theta_2)\n",
    "$$\n",
    "\n",
    "The Jacobian matrix $J$ is the matrix of all first-order partial derivatives of the forward kinematics function. For our 2-link robot arm, it is a 2x2 matrix:\n",
    "\n",
    "$$\n",
    "J = \\begin{bmatrix}\n",
    "\\frac{\\partial x}{\\partial \\theta_1} & \\frac{\\partial x}{\\partial \\theta_2} \\\\\n",
    "\\frac{\\partial y}{\\partial \\theta_1} & \\frac{\\partial y}{\\partial \\theta_2}\n",
    "\\end{bmatrix}\n",
    "$$\n",
    "\n",
    "By differentiating the forward kinematics equations with respect to the joint angles, we get the elements of the Jacobian matrix:\n",
    "\n",
    "$$\n",
    "J = \\begin{bmatrix}\n",
    "-l_1 \\sin(\\theta_1) - l_2 \\sin(\\theta_1 + \\theta_2) & -l_2 \\sin(\\theta_1 + \\theta_2) \\\\\n",
    "l_1 \\cos(\\theta_1) + l_2 \\cos(\\theta_1 + \\theta_2) & l_2 \\cos(\\theta_1 + \\theta_2)\n",
    "\\end{bmatrix}\n",
    "$$\n",
    "\n",
    "The Jacobian matrix is used in the Newton-Raphson method to relate the change in joint angles to the error in the end-effector position."
   ]
  },
  {
   "cell_type": "code",
   "execution_count": 1,
   "metadata": {},
   "outputs": [
    {
     "name": "stdout",
     "output_type": "stream",
     "text": [
      "Computed angles: [-5.9844821  20.54568008]\n"
     ]
    }
   ],
   "source": [
    "import numpy as np\n",
    "\n",
    "def forward_kinematics(theta1, theta2, l1, l2):\n",
    "    x = l1 * np.cos(theta1) + l2 * np.cos(theta1 + theta2)\n",
    "    y = l1 * np.sin(theta1) + l2 * np.sin(theta1 + theta2)\n",
    "    return x, y\n",
    "\n",
    "def jacobian(theta1, theta2, l1, l2):\n",
    "    j11 = -l1 * np.sin(theta1) - l2 * np.sin(theta1 + theta2)\n",
    "    j12 = -l2 * np.sin(theta1 + theta2)\n",
    "    j21 = l1 * np.cos(theta1) + l2 * np.cos(theta1 + theta2)\n",
    "    j22 = l2 * np.cos(theta1 + theta2)\n",
    "    return np.array([[j11, j12], [j21, j22]])\n",
    "\n",
    "def inverse_kinematics(target, theta, l1, l2, epsilon=1e-10, max_iterations=1000):\n",
    "    for i in range(max_iterations):\n",
    "        current = forward_kinematics(theta[0], theta[1], l1, l2)\n",
    "        error = target - current\n",
    "        if np.linalg.norm(error) < epsilon:\n",
    "            break\n",
    "        delta_theta = np.linalg.solve(jacobian(theta[0], theta[1], l1, l2), error)\n",
    "        theta += delta_theta\n",
    "    return theta\n",
    "\n",
    "# Test the function\n",
    "target_position = np.array([1.5, 1.5])\n",
    "initial_angles = np.array([0.1, 0.1])\n",
    "link_lengths = [2, 1]\n",
    "\n",
    "angles = inverse_kinematics(target_position, initial_angles, *link_lengths)\n",
    "print(f\"Computed angles: {angles}\")"
   ]
  },
  {
   "cell_type": "markdown",
   "metadata": {},
   "source": [
    "# Numeric Solution of an Inverse Kinematic Problem using the Gradient Descent Method\n",
    "\n",
    "Inverse kinematics is a crucial aspect of robotics and computer graphics that focuses on computing the joint parameters necessary to move a robotic arm or character to a specific position. It's called \"inverse\" because it reverses the direction of the kinematic equations, which usually go from joint angles to end-effector position.\n",
    "\n",
    "The Gradient Descent method is a first-order iterative optimization algorithm for finding a local minimum of a differentiable function. The idea is to take repeated steps in the opposite direction of the gradient (or approximate gradient) of the function at the current point, because this is the direction of steepest descent.\n",
    "\n",
    "In this notebook, we will apply the Gradient Descent method to solve an inverse kinematic problem. We will start by defining the problem and the method, and then we will implement the method in Python and use it to solve a specific problem.\n",
    "\n",
    "Please note that a good understanding of calculus, linear algebra, and robotics kinematics is required to fully understand the content of this notebook.\n",
    "\n",
    "## Gradient Descent Method\n",
    "\n",
    "The general equation for the Gradient Descent method is:\n",
    "\n",
    "$$\n",
    "\\theta_{new} = \\theta_{old} - \\alpha \\nabla F(\\theta_{old})\n",
    "$$\n",
    "\n",
    "where:\n",
    "- $\\theta_{new}$ is the updated value of $\\theta$\n",
    "- $\\theta_{old}$ is the current value of $\\theta$\n",
    "- $\\alpha$ is the learning rate\n",
    "- $\\nabla F(\\theta_{old})$ is the gradient of the function $F$ at $\\theta_{old}$\n",
    "\n",
    "The gradient of a function at a point is a vector that points in the direction of the steepest increase of the function. The negative gradient points in the direction of the steepest decrease. Therefore, subtracting the gradient from the current point moves us towards the local minimum of the function."
   ]
  },
  {
   "cell_type": "code",
   "execution_count": 3,
   "metadata": {},
   "outputs": [
    {
     "name": "stdout",
     "output_type": "stream",
     "text": [
      "Computed angles: [0.46058393 2.0236129 ]\n"
     ]
    }
   ],
   "source": [
    "import numpy as np\n",
    "\n",
    "def forward_kinematics(theta1, theta2, l1, l2):\n",
    "    x = l1 * np.cos(theta1) + l2 * np.cos(theta1 + theta2)\n",
    "    y = l1 * np.sin(theta1) + l2 * np.sin(theta1 + theta2)\n",
    "    return np.array([x, y])\n",
    "\n",
    "def gradient(theta1, theta2, l1, l2, target):\n",
    "    current = forward_kinematics(theta1, theta2, l1, l2)\n",
    "    error = current - target\n",
    "    grad1 = 2 * error[0] * (-l1 * np.sin(theta1) - l2 * np.sin(theta1 + theta2)) + 2 * error[1] * (l1 * np.cos(theta1) + l2 * np.cos(theta1 + theta2))\n",
    "    grad2 = 2 * error[0] * (-l2 * np.sin(theta1 + theta2)) + 2 * error[1] * (l2 * np.cos(theta1 + theta2))\n",
    "    return np.array([grad1, grad2])\n",
    "\n",
    "def inverse_kinematics(target, theta, l1, l2, alpha=0.01, epsilon=1e-10, max_iterations=1000):\n",
    "    for i in range(max_iterations):\n",
    "        grad = gradient(theta[0], theta[1], l1, l2, target)\n",
    "        if np.linalg.norm(grad) < epsilon:\n",
    "            break\n",
    "        theta = theta - alpha * grad\n",
    "    return theta\n",
    "\n",
    "# Test the function\n",
    "target_position = np.array([1.0, 1.5])\n",
    "initial_angles = np.array([0.1, 0.1])\n",
    "link_lengths = [2, 1]\n",
    "\n",
    "angles = inverse_kinematics(target_position, initial_angles, *link_lengths)\n",
    "print(f\"Computed angles: {angles}\")"
   ]
  },
  {
   "cell_type": "code",
   "execution_count": 4,
   "metadata": {},
   "outputs": [
    {
     "data": {
      "text/plain": [
       "array([1.00233899, 1.50277183])"
      ]
     },
     "execution_count": 4,
     "metadata": {},
     "output_type": "execute_result"
    }
   ],
   "source": [
    "forward_kinematics(0.4605, 2.02, 2, 1)"
   ]
  },
  {
   "cell_type": "markdown",
   "metadata": {},
   "source": [
    "## Homework\n",
    "\n",
    "Develop the inverse kinematics problem with the numeric methods given in this notebook (Newton and Gradient Descent) for the RRR robot shown below:\n",
    "\n",
    "![ima](RRR_fig.png)\n",
    "\n",
    "Give some numeric values for the lengths and some desired positions.\n",
    "\n"
   ]
  },
  {
   "cell_type": "code",
   "execution_count": null,
   "metadata": {},
   "outputs": [],
   "source": []
  }
 ],
 "metadata": {
  "kernelspec": {
   "display_name": "robotics",
   "language": "python",
   "name": "python3"
  },
  "language_info": {
   "codemirror_mode": {
    "name": "ipython",
    "version": 3
   },
   "file_extension": ".py",
   "mimetype": "text/x-python",
   "name": "python",
   "nbconvert_exporter": "python",
   "pygments_lexer": "ipython3",
   "version": "3.10.9"
  }
 },
 "nbformat": 4,
 "nbformat_minor": 2
}
